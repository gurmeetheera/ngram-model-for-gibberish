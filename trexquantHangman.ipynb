{
  "nbformat": 4,
  "nbformat_minor": 0,
  "metadata": {
    "colab": {
      "provenance": [],
      "authorship_tag": "ABX9TyOal+Li5Xo2tRzKZnvVUwYl",
      "include_colab_link": true
    },
    "kernelspec": {
      "name": "python3",
      "display_name": "Python 3"
    },
    "language_info": {
      "name": "python"
    }
  },
  "cells": [
    {
      "cell_type": "markdown",
      "metadata": {
        "id": "view-in-github",
        "colab_type": "text"
      },
      "source": [
        "<a href=\"https://colab.research.google.com/github/gurmeetheera/ngram-model-for-gibberish/blob/main/trexquantHangman.ipynb\" target=\"_parent\"><img src=\"https://colab.research.google.com/assets/colab-badge.svg\" alt=\"Open In Colab\"/></a>"
      ]
    },
    {
      "cell_type": "code",
      "execution_count": 1,
      "metadata": {
        "id": "osYCK5EUNG-6"
      },
      "outputs": [],
      "source": [
        "import json\n",
        "import requests\n",
        "import random\n",
        "import string\n",
        "import secrets\n",
        "import time\n",
        "import re\n",
        "import collections\n",
        "try:\n",
        "    from urllib.parse import parse_qs, urlencode, urlparse\n",
        "except ImportError:\n",
        "    from urlparse import parse_qs, urlparse\n",
        "    from urllib import urlencode"
      ]
    },
    {
      "cell_type": "code",
      "source": [
        "HANGMAN_URL = \"https://sg.trexsim.com/trexsim/hangman\"\n",
        "\n",
        "class HangmanAPI(object):\n",
        "    def __init__(self, access_token=None, session=None, timeout=None):\n",
        "        self.access_token = access_token\n",
        "        self.session = session or requests.Session()\n",
        "        self.timeout = timeout\n",
        "        self.guessed_letters = []\n",
        "        \n",
        "        full_dictionary_location = \"words_250000_train.txt\"\n",
        "        self.full_dictionary = self.build_dictionary(full_dictionary_location)        \n",
        "        self.full_dictionary_common_letter_sorted = collections.Counter(\"\".join(self.full_dictionary)).most_common()\n",
        "        \n",
        "        self.current_dictionary = []\n",
        "        \n",
        "    def guess(self, word): # word input example: \"_ p p _ e \"\n",
        "        ###############################################\n",
        "        # Replace with your own \"guess\" function here #\n",
        "        ###############################################\n",
        "\n",
        "        # clean the word so that we strip away the space characters\n",
        "        # replace \"_\" with \".\" as \".\" indicates any character in regular expressions\n",
        "        clean_word = word[::2].replace(\"_\",\".\")\n",
        "        \n",
        "        # find length of passed word\n",
        "        len_word = len(clean_word)\n",
        "\n",
        "        # grab current dictionary of possible words from self object, initialize new possible words dictionary to empty\n",
        "        current_dictionary = self.current_dictionary\n",
        "        new_dictionary = []\n",
        "        alphabets = \"abcdefghijklmnopqrstuvwxyz\"\n",
        "        uniGram = {}\n",
        "        biGram = {}\n",
        "        triGram = {}\n",
        "        quadGram = {}\n",
        "\n",
        "        for dict_word in current_dictionary:\n",
        "          for albt in dict_word:\n",
        "            uniGram[albt] = uniGram.get(albt, 0) + 1\n",
        "\n",
        "        for dict_word in current_dictionary:\n",
        "          for i in range(len(dict_word) - 1):\n",
        "            pair = dict_word[i: i+2]\n",
        "            biGram[pair] = biGram.get(pair, 0) + 1\n",
        "\n",
        "        for dict_word in current_dictionary:\n",
        "          for i in range(len(dict_word) - 2):\n",
        "            trigram = dict_word[i: i+3]\n",
        "            triGram[trigram] = triGram.get(trigram, 0) + 1\n",
        "\n",
        "        for dict_word in current_dictionary:\n",
        "          for i in range(len(dict_word) - 3):\n",
        "            quadgram = dict_word[i: i+4]\n",
        "            quadGram[quadgram] = quadGram.get(quadgram, 0) + 1\n",
        "\n",
        "\n",
        "        # iterate through all of the words in the old plausible dictionary\n",
        "        for dict_word in current_dictionary:\n",
        "            # continue if the word is not of the appropriate length\n",
        "            if len(dict_word) != len_word:\n",
        "                continue\n",
        "                \n",
        "            # if dictionary word is a possible match then add it to the current dictionary\n",
        "            if re.match(clean_word,dict_word):\n",
        "                new_dictionary.append(dict_word)\n",
        "        \n",
        "        # overwrite old possible words dictionary with updated version\n",
        "        self.current_dictionary = new_dictionary\n",
        "        \n",
        "        \n",
        "        # count occurrence of all characters in possible word matches\n",
        "        full_dict_string = \"\".join(new_dictionary)\n",
        "        \n",
        "        c = collections.Counter(full_dict_string)\n",
        "        sorted_letter_count = c.most_common()                   \n",
        "        \n",
        "        guess_letter = '!'\n",
        "        letter = \"??\"\n",
        "        chr = []\n",
        "        prob = []\n",
        "\n",
        "        if len(clean_word) != clean_word.count(\".\"):\n",
        "          chr = []\n",
        "          prob = []\n",
        "          for i in range(len(clean_word) - 3):\n",
        "            tg = clean_word[i:i + 4]\n",
        "            missingalphabets = tg.count(\".\")\n",
        "            srt_a = []\n",
        "            srt_c = []\n",
        "            if missingalphabets == 1:\n",
        "              matchcounts = [quadGram.get(tg.replace(\".\", x),0) for x in alphabets]\n",
        "              if len(matchcounts)>0:\n",
        "                srt_a.append(alphabets[matchcounts.index(max(matchcounts))])\n",
        "                if sum(matchcounts)>0:\n",
        "                  srt_c.append(max(matchcounts)/sum(matchcounts))\n",
        "            chr.extend(srt_a)\n",
        "            prob.extend(srt_c)\n",
        "          if len(prob)>0:\n",
        "            letter = chr[prob.index(max(prob))]\n",
        "          if letter not in self.guessed_letters and letter !=\"??\":\n",
        "            guess_letter = letter\n",
        "\n",
        "\n",
        "          chr = []\n",
        "          prob = []\n",
        "          for i in range(len(clean_word) - 2):\n",
        "            tg = clean_word[i:i + 3]\n",
        "            missingalphabets = tg.count(\".\")\n",
        "            srt_a = []\n",
        "            srt_c = []\n",
        "            if missingalphabets == 1:\n",
        "              matchcounts = [triGram.get(tg.replace(\".\", x),0) for x in alphabets]\n",
        "              if len(matchcounts)>0:\n",
        "                srt_a.append(alphabets[matchcounts.index(max(matchcounts))])\n",
        "                if sum(matchcounts)>0:\n",
        "                  srt_c.append(max(matchcounts)/sum(matchcounts))\n",
        "            chr.extend(srt_a)\n",
        "            prob.extend(srt_c)\n",
        "          if len(prob)>0:\n",
        "            letter = chr[prob.index(max(prob))]\n",
        "          if letter not in self.guessed_letters and letter !=\"??\":\n",
        "            guess_letter = letter\n",
        "\n",
        "\n",
        "          chr = []\n",
        "          prob = []\n",
        "          for i in range(len(clean_word) - 1):\n",
        "            tg = clean_word[i:i + 2]\n",
        "            missingalphabets = tg.count(\".\")\n",
        "            srt_a = []\n",
        "            srt_c = []\n",
        "            if missingalphabets == 1:\n",
        "              matchcounts = [biGram.get(tg.replace(\".\", x),0) for x in alphabets]\n",
        "              if len(matchcounts)>0:\n",
        "                srt_a.append(alphabets[matchcounts.index(max(matchcounts))])\n",
        "                if sum(matchcounts)>0:\n",
        "                  srt_c.append(max(matchcounts)/sum(matchcounts))\n",
        "            chr.extend(srt_a)\n",
        "            prob.extend(srt_c)\n",
        "          if len(prob)>0:\n",
        "            letter = chr[prob.index(max(prob))]\n",
        "          if letter not in self.guessed_letters and letter !=\"??\":\n",
        "            guess_letter = letter\n",
        "\n",
        "        # return most frequently occurring letter in all possible words that hasn't been guessed yet\n",
        "        if guess_letter == '!':\n",
        "          for letter,instance_count in sorted_letter_count:\n",
        "            if letter not in self.guessed_letters:\n",
        "                guess_letter = letter\n",
        "                break\n",
        "            \n",
        "        # if no word matches in training dictionary, default back to ordering of full dictionary\n",
        "        if guess_letter == '!':\n",
        "            sorted_letter_count = self.full_dictionary_common_letter_sorted\n",
        "            for letter,instance_count in sorted_letter_count:\n",
        "                if letter not in self.guessed_letters:\n",
        "                    guess_letter = letter\n",
        "                    break            \n",
        "        \n",
        "        return guess_letter\n",
        "\n",
        "    ##########################################################\n",
        "    # You'll likely not need to modify any of the code below #\n",
        "    ##########################################################\n",
        "    \n",
        "    def build_dictionary(self, dictionary_file_location):\n",
        "        text_file = open(dictionary_file_location,\"r\")\n",
        "        full_dictionary = text_file.read().splitlines()\n",
        "        text_file.close()\n",
        "        return full_dictionary\n",
        "                \n",
        "    def start_game(self, practice=True, verbose=True):\n",
        "        # reset guessed letters to empty set and current plausible dictionary to the full dictionary\n",
        "        self.guessed_letters = []\n",
        "        self.current_dictionary = self.full_dictionary\n",
        "                         \n",
        "        response = self.request(\"/new_game\", {\"practice\":practice})\n",
        "        if response.get('status')==\"approved\":\n",
        "            game_id = response.get('game_id')\n",
        "            word = response.get('word')\n",
        "            tries_remains = response.get('tries_remains')\n",
        "            if verbose:\n",
        "                print(\"Successfully start a new game! Game ID: {0}. # of tries remaining: {1}. Word: {2}.\".format(game_id, tries_remains, word))\n",
        "            while tries_remains>0:\n",
        "                # get guessed letter from user code\n",
        "                guess_letter = self.guess(word)\n",
        "                    \n",
        "                # append guessed letter to guessed letters field in hangman object\n",
        "                self.guessed_letters.append(guess_letter)\n",
        "                if verbose:\n",
        "                    print(\"Guessing letter: {0}\".format(guess_letter))\n",
        "                    \n",
        "                try:    \n",
        "                    res = self.request(\"/guess_letter\", {\"request\":\"guess_letter\", \"game_id\":game_id, \"letter\":guess_letter})\n",
        "                except HangmanAPIError:\n",
        "                    print('HangmanAPIError exception caught on request.')\n",
        "                    continue\n",
        "                except Exception as e:\n",
        "                    print('Other exception caught on request.')\n",
        "                    raise e\n",
        "               \n",
        "                if verbose:\n",
        "                    print(\"Sever response: {0}\".format(res))\n",
        "                status = res.get('status')\n",
        "                tries_remains = res.get('tries_remains')\n",
        "                if status==\"success\":\n",
        "                    if verbose:\n",
        "                        print(\"Successfully finished game: {0}\".format(game_id))\n",
        "                    return True\n",
        "                elif status==\"failed\":\n",
        "                    reason = res.get('reason', '# of tries exceeded!')\n",
        "                    if verbose:\n",
        "                        print(\"Failed game: {0}. Because of: {1}\".format(game_id, reason))\n",
        "                    return False\n",
        "                elif status==\"ongoing\":\n",
        "                    word = res.get('word')\n",
        "        else:\n",
        "            if verbose:\n",
        "                print(\"Failed to start a new game\")\n",
        "        return status==\"success\"\n",
        "        \n",
        "    def my_status(self):\n",
        "        return self.request(\"/my_status\", {})\n",
        "    \n",
        "    def request(\n",
        "            self, path, args=None, post_args=None, method=None):\n",
        "        if args is None:\n",
        "            args = dict()\n",
        "        if post_args is not None:\n",
        "            method = \"POST\"\n",
        "\n",
        "        # Add `access_token` to post_args or args if it has not already been\n",
        "        # included.\n",
        "        if self.access_token:\n",
        "            # If post_args exists, we assume that args either does not exists\n",
        "            # or it does not need `access_token`.\n",
        "            if post_args and \"access_token\" not in post_args:\n",
        "                post_args[\"access_token\"] = self.access_token\n",
        "            elif \"access_token\" not in args:\n",
        "                args[\"access_token\"] = self.access_token\n",
        "\n",
        "        time.sleep(0.2)\n",
        "\n",
        "        num_retry, time_sleep = 50, 2\n",
        "        for it in range(num_retry):\n",
        "            try:\n",
        "                response = self.session.request(\n",
        "                    method or \"GET\",\n",
        "                    HANGMAN_URL + path,\n",
        "                    timeout=self.timeout,\n",
        "                    params=args,\n",
        "                    data=post_args\n",
        "                )\n",
        "                break\n",
        "            except requests.HTTPError as e:\n",
        "                response = json.loads(e.read())\n",
        "                raise HangmanAPIError(response)\n",
        "            except requests.exceptions.SSLError as e:\n",
        "                if it + 1 == num_retry:\n",
        "                    raise\n",
        "                time.sleep(time_sleep)\n",
        "\n",
        "        headers = response.headers\n",
        "        if 'json' in headers['content-type']:\n",
        "            result = response.json()\n",
        "        elif \"access_token\" in parse_qs(response.text):\n",
        "            query_str = parse_qs(response.text)\n",
        "            if \"access_token\" in query_str:\n",
        "                result = {\"access_token\": query_str[\"access_token\"][0]}\n",
        "                if \"expires\" in query_str:\n",
        "                    result[\"expires\"] = query_str[\"expires\"][0]\n",
        "            else:\n",
        "                raise HangmanAPIError(response.json())\n",
        "        else:\n",
        "            raise HangmanAPIError('Maintype was not text, or querystring')\n",
        "\n",
        "        if result and isinstance(result, dict) and result.get(\"error\"):\n",
        "            raise HangmanAPIError(result)\n",
        "        return result\n",
        "    \n",
        "class HangmanAPIError(Exception):\n",
        "    def __init__(self, result):\n",
        "        self.result = result\n",
        "        self.code = None\n",
        "        try:\n",
        "            self.type = result[\"error_code\"]\n",
        "        except (KeyError, TypeError):\n",
        "            self.type = \"\"\n",
        "\n",
        "        try:\n",
        "            self.message = result[\"error_description\"]\n",
        "        except (KeyError, TypeError):\n",
        "            try:\n",
        "                self.message = result[\"error\"][\"message\"]\n",
        "                self.code = result[\"error\"].get(\"code\")\n",
        "                if not self.type:\n",
        "                    self.type = result[\"error\"].get(\"type\", \"\")\n",
        "            except (KeyError, TypeError):\n",
        "                try:\n",
        "                    self.message = result[\"error_msg\"]\n",
        "                except (KeyError, TypeError):\n",
        "                    self.message = result\n",
        "\n",
        "        Exception.__init__(self, self.message)"
      ],
      "metadata": {
        "id": "7mIh_mbuNLYK"
      },
      "execution_count": 75,
      "outputs": []
    },
    {
      "cell_type": "code",
      "source": [
        "api = HangmanAPI(access_token=\"4ceb2aff1465bfb20da9d913028bf6\", timeout=2000)\n"
      ],
      "metadata": {
        "id": "5FRgFqq7NON0"
      },
      "execution_count": 76,
      "outputs": []
    },
    {
      "cell_type": "code",
      "source": [
        "api.start_game(practice=1,verbose=True)\n",
        "[total_practice_runs,total_recorded_runs,total_recorded_successes,total_practice_successes] = api.my_status() # Get my game stats: (# of tries, # of wins)\n",
        "practice_success_rate = total_practice_successes / total_practice_runs\n",
        "print('run %d practice games out of an allotted 100,000. practice success rate so far = %.3f' % (total_practice_runs, practice_success_rate))\n"
      ],
      "metadata": {
        "colab": {
          "base_uri": "https://localhost:8080/"
        },
        "id": "qC5FfKhTNXgM",
        "outputId": "312d2053-866e-4958-8d61-3ceedee12613"
      },
      "execution_count": 83,
      "outputs": [
        {
          "output_type": "stream",
          "name": "stdout",
          "text": [
            "Successfully start a new game! Game ID: ae002acae0d9. # of tries remaining: 6. Word: _ _ _ _ _ _ _ .\n",
            "Guessing letter: e\n",
            "Sever response: {'game_id': 'ae002acae0d9', 'status': 'ongoing', 'tries_remains': 6, 'word': '_ _ _ _ _ e _ '}\n",
            "Guessing letter: r\n",
            "Sever response: {'game_id': 'ae002acae0d9', 'status': 'ongoing', 'tries_remains': 6, 'word': '_ _ r _ _ e r '}\n",
            "Guessing letter: i\n",
            "Sever response: {'game_id': 'ae002acae0d9', 'status': 'ongoing', 'tries_remains': 5, 'word': '_ _ r _ _ e r '}\n",
            "Guessing letter: a\n",
            "Sever response: {'game_id': 'ae002acae0d9', 'status': 'ongoing', 'tries_remains': 5, 'word': 'a _ r _ _ e r '}\n",
            "Guessing letter: d\n",
            "Sever response: {'game_id': 'ae002acae0d9', 'status': 'ongoing', 'tries_remains': 4, 'word': 'a _ r _ _ e r '}\n",
            "Guessing letter: c\n",
            "Sever response: {'game_id': 'ae002acae0d9', 'status': 'ongoing', 'tries_remains': 3, 'word': 'a _ r _ _ e r '}\n",
            "Guessing letter: b\n",
            "Sever response: {'game_id': 'ae002acae0d9', 'status': 'ongoing', 'tries_remains': 2, 'word': 'a _ r _ _ e r '}\n",
            "Guessing letter: o\n",
            "Sever response: {'game_id': 'ae002acae0d9', 'status': 'ongoing', 'tries_remains': 2, 'word': 'a _ r o _ e r '}\n",
            "Guessing letter: t\n",
            "Sever response: {'game_id': 'ae002acae0d9', 'status': 'ongoing', 'tries_remains': 2, 'word': 'a _ r o t e r '}\n",
            "Guessing letter: n\n",
            "Sever response: {'game_id': 'ae002acae0d9', 'status': 'ongoing', 'tries_remains': 1, 'word': 'a _ r o t e r '}\n",
            "Guessing letter: s\n",
            "Sever response: {'game_id': 'ae002acae0d9', 'status': 'failed', 'tries_remains': 0, 'word': 'a _ r o t e r '}\n",
            "Failed game: ae002acae0d9. Because of: # of tries exceeded!\n",
            "run 333 practice games out of an allotted 100,000. practice success rate so far = 0.165\n"
          ]
        }
      ]
    },
    {
      "cell_type": "code",
      "source": [
        "\n",
        "from tqdm import tqdm\n",
        "for i in tqdm(range(1000)):\n",
        "  api.start_game(practice=1,verbose=False)\n",
        "  time.sleep(0.5)"
      ],
      "metadata": {
        "colab": {
          "base_uri": "https://localhost:8080/"
        },
        "id": "Qe8FuMKNe-6p",
        "outputId": "6476d7c1-9006-40fa-936d-aafbd30cf295"
      },
      "execution_count": null,
      "outputs": [
        {
          "output_type": "stream",
          "name": "stderr",
          "text": [
            "  2%|▏         | 16/1000 [03:21<3:34:30, 13.08s/it]"
          ]
        }
      ]
    },
    {
      "cell_type": "code",
      "source": [
        "[total_practice_runs,total_recorded_runs,total_recorded_successes,total_practice_successes] = api.my_status() # Get my game stats: (# of tries, # of wins)\n",
        "success_rate = total_recorded_successes/total_recorded_runs\n",
        "print('overall success rate = %.3f' % success_rate)"
      ],
      "metadata": {
        "id": "9yjVWR66Nsjt"
      },
      "execution_count": null,
      "outputs": []
    },
    {
      "cell_type": "code",
      "source": [
        "for i in range(1000):\n",
        "    print('Playing ', i, ' th game')\n",
        "    # Uncomment the following line to execute your final runs. Do not do this until you are satisfied with your submission\n",
        "    #api.start_game(practice=0,verbose=False)\n",
        "    \n",
        "    # DO NOT REMOVE as otherwise the server may lock you out for too high frequency of requests\n",
        "    time.sleep(0.5)"
      ],
      "metadata": {
        "id": "5ZGJmJGaUBFb"
      },
      "execution_count": 115,
      "outputs": []
    },
    {
      "cell_type": "code",
      "source": [
        "max(a)"
      ],
      "metadata": {
        "colab": {
          "base_uri": "https://localhost:8080/"
        },
        "id": "0b_Y7dTh0cHC",
        "outputId": "c0887cd0-a728-4a10-a194-693e4aa56b9b"
      },
      "execution_count": 116,
      "outputs": [
        {
          "output_type": "execute_result",
          "data": {
            "text/plain": [
              "5"
            ]
          },
          "metadata": {},
          "execution_count": 116
        }
      ]
    },
    {
      "cell_type": "code",
      "source": [
        "max(a)/sum(a)"
      ],
      "metadata": {
        "colab": {
          "base_uri": "https://localhost:8080/"
        },
        "id": "Jq6R8PxG0flU",
        "outputId": "a82ae9e5-c6a4-420a-d55c-a4ee295b311d"
      },
      "execution_count": 118,
      "outputs": [
        {
          "output_type": "execute_result",
          "data": {
            "text/plain": [
              "0.3333333333333333"
            ]
          },
          "metadata": {},
          "execution_count": 118
        }
      ]
    },
    {
      "cell_type": "code",
      "source": [],
      "metadata": {
        "id": "QOCj248Z0jsR"
      },
      "execution_count": null,
      "outputs": []
    }
  ]
}