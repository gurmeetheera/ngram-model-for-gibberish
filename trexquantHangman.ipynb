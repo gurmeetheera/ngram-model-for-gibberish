{
  "nbformat": 4,
  "nbformat_minor": 0,
  "metadata": {
    "colab": {
      "provenance": [],
      "authorship_tag": "ABX9TyPJkCVF32f4SFuuhfyFVIII",
      "include_colab_link": true
    },
    "kernelspec": {
      "name": "python3",
      "display_name": "Python 3"
    },
    "language_info": {
      "name": "python"
    }
  },
  "cells": [
    {
      "cell_type": "markdown",
      "metadata": {
        "id": "view-in-github",
        "colab_type": "text"
      },
      "source": [
        "<a href=\"https://colab.research.google.com/github/gurmeetheera/ngram-model-for-gibberish/blob/main/trexquantHangman.ipynb\" target=\"_parent\"><img src=\"https://colab.research.google.com/assets/colab-badge.svg\" alt=\"Open In Colab\"/></a>"
      ]
    },
    {
      "cell_type": "code",
      "execution_count": 1,
      "metadata": {
        "id": "osYCK5EUNG-6"
      },
      "outputs": [],
      "source": [
        "import json\n",
        "import requests\n",
        "import random\n",
        "import string\n",
        "import secrets\n",
        "import time\n",
        "import re\n",
        "import collections\n",
        "try:\n",
        "    from urllib.parse import parse_qs, urlencode, urlparse\n",
        "except ImportError:\n",
        "    from urlparse import parse_qs, urlparse\n",
        "    from urllib import urlencode"
      ]
    },
    {
      "cell_type": "code",
      "source": [
        "HANGMAN_URL = \"https://sg.trexsim.com/trexsim/hangman\"\n",
        "\n",
        "class HangmanAPI(object):\n",
        "    def __init__(self, access_token=None, session=None, timeout=None):\n",
        "        self.access_token = access_token\n",
        "        self.session = session or requests.Session()\n",
        "        self.timeout = timeout\n",
        "        self.guessed_letters = []\n",
        "        \n",
        "        full_dictionary_location = \"words_250000_train.txt\"\n",
        "        self.full_dictionary = self.build_dictionary(full_dictionary_location)        \n",
        "        self.full_dictionary_common_letter_sorted = collections.Counter(\"\".join(self.full_dictionary)).most_common()\n",
        "        \n",
        "        self.current_dictionary = []\n",
        "        \n",
        "    def guess(self, word): # word input example: \"_ p p _ e \"\n",
        "        ###############################################\n",
        "        # Replace with your own \"guess\" function here #\n",
        "        ###############################################\n",
        "\n",
        "        # clean the word so that we strip away the space characters\n",
        "        # replace \"_\" with \".\" as \".\" indicates any character in regular expressions\n",
        "        clean_word = word[::2].replace(\"_\",\".\")\n",
        "        \n",
        "        # find length of passed word\n",
        "        len_word = len(clean_word)\n",
        "\n",
        "        # grab current dictionary of possible words from self object, initialize new possible words dictionary to empty\n",
        "        current_dictionary = self.current_dictionary\n",
        "        new_dictionary = []\n",
        "        alphabets = \"abcdefghijklmnopqrstuvwxyz\"\n",
        "        uniGram = {}\n",
        "        biGram = {}\n",
        "        triGram = {}\n",
        "        for dict_word in current_dictionary:\n",
        "          for albt in dict_word:\n",
        "            uniGram[albt] = uniGram.get(albt, 0) + 1\n",
        "\n",
        "        for dict_word in current_dictionary:\n",
        "          for i in range(len(dict_word) - 1):\n",
        "            pair = dict_word[i: i+2]\n",
        "            biGram[pair] = biGram.get(pair, 0) + 1\n",
        "\n",
        "        for dict_word in current_dictionary:\n",
        "          for i in range(len(dict_word) - 2):\n",
        "            trigram = dict_word[i: i+3]\n",
        "            triGram[trigram] = triGram.get(trigram, 0) + 1\n",
        "\n",
        "\n",
        "\n",
        "\n",
        "        # iterate through all of the words in the old plausible dictionary\n",
        "        for dict_word in current_dictionary:\n",
        "            # continue if the word is not of the appropriate length\n",
        "            if len(dict_word) != len_word:\n",
        "                continue\n",
        "                \n",
        "            # if dictionary word is a possible match then add it to the current dictionary\n",
        "            if re.match(clean_word,dict_word):\n",
        "                new_dictionary.append(dict_word)\n",
        "        \n",
        "        # overwrite old possible words dictionary with updated version\n",
        "        self.current_dictionary = new_dictionary\n",
        "        \n",
        "        \n",
        "        # count occurrence of all characters in possible word matches\n",
        "        full_dict_string = \"\".join(new_dictionary)\n",
        "        \n",
        "        c = collections.Counter(full_dict_string)\n",
        "        sorted_letter_count = c.most_common()                   \n",
        "        \n",
        "        guess_letter = '!'\n",
        "\n",
        "        # for i in range(len(clean_word) - 3):\n",
        "        #   tg = hh[i:i + 4]\n",
        "        #   missingalphabets = tg.count(\".\")\n",
        "        #   srt_a = []\n",
        "        #   srt_c = []\n",
        "        #   if missingalphabets == 1:\n",
        "        #     matchcounts = [triGram.get(tg.replace(\".\", x),0) for x in alphabets]\n",
        "        #     srt_a.append(alphabets[matchcounts.index(max(matchcounts))])\n",
        "        #     srt_c.append(max(matchcounts))\n",
        "        #     letter = srt_a[srt_c.index(max(srt_c))]\n",
        "        #     if letter not in self.guessed_letters:\n",
        "        #         guess_letter = letter\n",
        "        #         break\n",
        "\n",
        "\n",
        "        # for i in range(len(clean_word) - 2):\n",
        "        #   tg = hh[i:i+3]\n",
        "        #   missingalphabets = tg.count(\".\")\n",
        "        #   srt_a = []\n",
        "        #   srt_c = []\n",
        "        #   if missingalphabets == 1:\n",
        "        #     matchcounts = [triGram.get(tg.replace(\".\", x),0) for x in alphabets]\n",
        "        #     srt_a.append(alphabets[matchcounts.index(max(matchcounts))])\n",
        "        #     srt_c.append(max(matchcounts))\n",
        "        #     letter = srt_a[srt_c.index(max(srt_c))]\n",
        "        #     if letter not in self.guessed_letters:\n",
        "        #         guess_letter = letter\n",
        "        #         break\n",
        "\n",
        "        for i in range(len(clean_word) - 1):\n",
        "          tg = hh[i:i + 2]\n",
        "          missingalphabets = tg.count(\".\")\n",
        "          srt_a = []\n",
        "          srt_c = []\n",
        "          if missingalphabets == 1:\n",
        "            matchcounts = [triGram.get(tg.replace(\".\", x),0) for x in alphabets]\n",
        "            srt_a.append(alphabets[matchcounts.index(max(matchcounts))])\n",
        "            srt_c.append(max(matchcounts))\n",
        "            letter = srt_a[srt_c.index(max(srt_c))]\n",
        "            if letter not in self.guessed_letters:\n",
        "                guess_letter = letter\n",
        "                break\n",
        "\n",
        "        # return most frequently occurring letter in all possible words that hasn't been guessed yet\n",
        "        for letter,instance_count in sorted_letter_count:\n",
        "            if letter not in self.guessed_letters:\n",
        "                guess_letter = letter\n",
        "                break\n",
        "            \n",
        "        # if no word matches in training dictionary, default back to ordering of full dictionary\n",
        "        if guess_letter == '!':\n",
        "            sorted_letter_count = self.full_dictionary_common_letter_sorted\n",
        "            for letter,instance_count in sorted_letter_count:\n",
        "                if letter not in self.guessed_letters:\n",
        "                    guess_letter = letter\n",
        "                    break            \n",
        "        \n",
        "        return guess_letter\n",
        "\n",
        "    ##########################################################\n",
        "    # You'll likely not need to modify any of the code below #\n",
        "    ##########################################################\n",
        "    \n",
        "    def build_dictionary(self, dictionary_file_location):\n",
        "        text_file = open(dictionary_file_location,\"r\")\n",
        "        full_dictionary = text_file.read().splitlines()\n",
        "        text_file.close()\n",
        "        return full_dictionary\n",
        "                \n",
        "    def start_game(self, practice=True, verbose=True):\n",
        "        # reset guessed letters to empty set and current plausible dictionary to the full dictionary\n",
        "        self.guessed_letters = []\n",
        "        self.current_dictionary = self.full_dictionary\n",
        "                         \n",
        "        response = self.request(\"/new_game\", {\"practice\":practice})\n",
        "        if response.get('status')==\"approved\":\n",
        "            game_id = response.get('game_id')\n",
        "            word = response.get('word')\n",
        "            tries_remains = response.get('tries_remains')\n",
        "            if verbose:\n",
        "                print(\"Successfully start a new game! Game ID: {0}. # of tries remaining: {1}. Word: {2}.\".format(game_id, tries_remains, word))\n",
        "            while tries_remains>0:\n",
        "                # get guessed letter from user code\n",
        "                guess_letter = self.guess(word)\n",
        "                    \n",
        "                # append guessed letter to guessed letters field in hangman object\n",
        "                self.guessed_letters.append(guess_letter)\n",
        "                if verbose:\n",
        "                    print(\"Guessing letter: {0}\".format(guess_letter))\n",
        "                    \n",
        "                try:    \n",
        "                    res = self.request(\"/guess_letter\", {\"request\":\"guess_letter\", \"game_id\":game_id, \"letter\":guess_letter})\n",
        "                except HangmanAPIError:\n",
        "                    print('HangmanAPIError exception caught on request.')\n",
        "                    continue\n",
        "                except Exception as e:\n",
        "                    print('Other exception caught on request.')\n",
        "                    raise e\n",
        "               \n",
        "                if verbose:\n",
        "                    print(\"Sever response: {0}\".format(res))\n",
        "                status = res.get('status')\n",
        "                tries_remains = res.get('tries_remains')\n",
        "                if status==\"success\":\n",
        "                    if verbose:\n",
        "                        print(\"Successfully finished game: {0}\".format(game_id))\n",
        "                    return True\n",
        "                elif status==\"failed\":\n",
        "                    reason = res.get('reason', '# of tries exceeded!')\n",
        "                    if verbose:\n",
        "                        print(\"Failed game: {0}. Because of: {1}\".format(game_id, reason))\n",
        "                    return False\n",
        "                elif status==\"ongoing\":\n",
        "                    word = res.get('word')\n",
        "        else:\n",
        "            if verbose:\n",
        "                print(\"Failed to start a new game\")\n",
        "        return status==\"success\"\n",
        "        \n",
        "    def my_status(self):\n",
        "        return self.request(\"/my_status\", {})\n",
        "    \n",
        "    def request(\n",
        "            self, path, args=None, post_args=None, method=None):\n",
        "        if args is None:\n",
        "            args = dict()\n",
        "        if post_args is not None:\n",
        "            method = \"POST\"\n",
        "\n",
        "        # Add `access_token` to post_args or args if it has not already been\n",
        "        # included.\n",
        "        if self.access_token:\n",
        "            # If post_args exists, we assume that args either does not exists\n",
        "            # or it does not need `access_token`.\n",
        "            if post_args and \"access_token\" not in post_args:\n",
        "                post_args[\"access_token\"] = self.access_token\n",
        "            elif \"access_token\" not in args:\n",
        "                args[\"access_token\"] = self.access_token\n",
        "\n",
        "        time.sleep(0.2)\n",
        "\n",
        "        num_retry, time_sleep = 50, 2\n",
        "        for it in range(num_retry):\n",
        "            try:\n",
        "                response = self.session.request(\n",
        "                    method or \"GET\",\n",
        "                    HANGMAN_URL + path,\n",
        "                    timeout=self.timeout,\n",
        "                    params=args,\n",
        "                    data=post_args\n",
        "                )\n",
        "                break\n",
        "            except requests.HTTPError as e:\n",
        "                response = json.loads(e.read())\n",
        "                raise HangmanAPIError(response)\n",
        "            except requests.exceptions.SSLError as e:\n",
        "                if it + 1 == num_retry:\n",
        "                    raise\n",
        "                time.sleep(time_sleep)\n",
        "\n",
        "        headers = response.headers\n",
        "        if 'json' in headers['content-type']:\n",
        "            result = response.json()\n",
        "        elif \"access_token\" in parse_qs(response.text):\n",
        "            query_str = parse_qs(response.text)\n",
        "            if \"access_token\" in query_str:\n",
        "                result = {\"access_token\": query_str[\"access_token\"][0]}\n",
        "                if \"expires\" in query_str:\n",
        "                    result[\"expires\"] = query_str[\"expires\"][0]\n",
        "            else:\n",
        "                raise HangmanAPIError(response.json())\n",
        "        else:\n",
        "            raise HangmanAPIError('Maintype was not text, or querystring')\n",
        "\n",
        "        if result and isinstance(result, dict) and result.get(\"error\"):\n",
        "            raise HangmanAPIError(result)\n",
        "        return result\n",
        "    \n",
        "class HangmanAPIError(Exception):\n",
        "    def __init__(self, result):\n",
        "        self.result = result\n",
        "        self.code = None\n",
        "        try:\n",
        "            self.type = result[\"error_code\"]\n",
        "        except (KeyError, TypeError):\n",
        "            self.type = \"\"\n",
        "\n",
        "        try:\n",
        "            self.message = result[\"error_description\"]\n",
        "        except (KeyError, TypeError):\n",
        "            try:\n",
        "                self.message = result[\"error\"][\"message\"]\n",
        "                self.code = result[\"error\"].get(\"code\")\n",
        "                if not self.type:\n",
        "                    self.type = result[\"error\"].get(\"type\", \"\")\n",
        "            except (KeyError, TypeError):\n",
        "                try:\n",
        "                    self.message = result[\"error_msg\"]\n",
        "                except (KeyError, TypeError):\n",
        "                    self.message = result\n",
        "\n",
        "        Exception.__init__(self, self.message)"
      ],
      "metadata": {
        "id": "7mIh_mbuNLYK"
      },
      "execution_count": 80,
      "outputs": []
    },
    {
      "cell_type": "markdown",
      "source": [],
      "metadata": {
        "id": "mkWZCzXmNiS-"
      }
    },
    {
      "cell_type": "code",
      "source": [
        "api = HangmanAPI(access_token=\"4ceb2aff1465bfb20da9d913028bf6\", timeout=2000)\n"
      ],
      "metadata": {
        "id": "5FRgFqq7NON0"
      },
      "execution_count": 81,
      "outputs": []
    },
    {
      "cell_type": "code",
      "source": [
        "for i in range(100):\n",
        "  api.start_game(practice=1,verbose=False)\n"
      ],
      "metadata": {
        "id": "Qe8FuMKNe-6p"
      },
      "execution_count": null,
      "outputs": []
    },
    {
      "cell_type": "code",
      "source": [
        "api.start_game(practice=1,verbose=True)\n",
        "[total_practice_runs,total_recorded_runs,total_recorded_successes,total_practice_successes] = api.my_status() # Get my game stats: (# of tries, # of wins)\n",
        "practice_success_rate = total_practice_successes / total_practice_runs\n",
        "print('run %d practice games out of an allotted 100,000. practice success rate so far = %.3f' % (total_practice_runs, practice_success_rate))\n"
      ],
      "metadata": {
        "colab": {
          "base_uri": "https://localhost:8080/"
        },
        "id": "qC5FfKhTNXgM",
        "outputId": "00ff2c61-f451-4bdc-853c-46de2fa5e803"
      },
      "execution_count": 83,
      "outputs": [
        {
          "output_type": "stream",
          "name": "stdout",
          "text": [
            "Successfully start a new game! Game ID: b266512a3710. # of tries remaining: 6. Word: _ _ _ _ _ _ _ _ _ _ _ .\n",
            "Guessing letter: e\n",
            "Sever response: {'game_id': 'b266512a3710', 'status': 'ongoing', 'tries_remains': 5, 'word': '_ _ _ _ _ _ _ _ _ _ _ '}\n",
            "Guessing letter: i\n",
            "Sever response: {'game_id': 'b266512a3710', 'status': 'ongoing', 'tries_remains': 5, 'word': '_ _ _ _ i _ _ i _ _ _ '}\n",
            "Guessing letter: s\n",
            "Sever response: {'game_id': 'b266512a3710', 'status': 'ongoing', 'tries_remains': 4, 'word': '_ _ _ _ i _ _ i _ _ _ '}\n",
            "Guessing letter: l\n",
            "Sever response: {'game_id': 'b266512a3710', 'status': 'ongoing', 'tries_remains': 4, 'word': '_ _ _ _ i _ _ i _ _ l '}\n",
            "Guessing letter: a\n",
            "Sever response: {'game_id': 'b266512a3710', 'status': 'ongoing', 'tries_remains': 4, 'word': '_ _ _ _ i _ _ i _ a l '}\n",
            "Guessing letter: t\n",
            "Sever response: {'game_id': 'b266512a3710', 'status': 'ongoing', 'tries_remains': 3, 'word': '_ _ _ _ i _ _ i _ a l '}\n",
            "Guessing letter: c\n",
            "Sever response: {'game_id': 'b266512a3710', 'status': 'ongoing', 'tries_remains': 3, 'word': '_ _ _ _ i _ c i _ a l '}\n",
            "Guessing letter: n\n",
            "Sever response: {'game_id': 'b266512a3710', 'status': 'ongoing', 'tries_remains': 3, 'word': '_ n _ _ i n c i _ a l '}\n",
            "Guessing letter: r\n",
            "Sever response: {'game_id': 'b266512a3710', 'status': 'ongoing', 'tries_remains': 3, 'word': '_ n _ r i n c i _ a l '}\n",
            "Guessing letter: o\n",
            "Sever response: {'game_id': 'b266512a3710', 'status': 'ongoing', 'tries_remains': 2, 'word': '_ n _ r i n c i _ a l '}\n",
            "Guessing letter: u\n",
            "Sever response: {'game_id': 'b266512a3710', 'status': 'ongoing', 'tries_remains': 2, 'word': 'u n _ r i n c i _ a l '}\n",
            "Guessing letter: p\n",
            "Sever response: {'game_id': 'b266512a3710', 'status': 'success', 'tries_remains': 2, 'word': 'u n p r i n c i p a l '}\n",
            "Successfully finished game: b266512a3710\n",
            "run 19 practice games out of an allotted 100,000. practice success rate so far = 0.211\n"
          ]
        }
      ]
    },
    {
      "cell_type": "code",
      "source": [
        "[total_practice_runs,total_recorded_runs,total_recorded_successes,total_practice_successes] = api.my_status() # Get my game stats: (# of tries, # of wins)\n",
        "success_rate = total_recorded_successes/total_recorded_runs\n",
        "print('overall success rate = %.3f' % success_rate)"
      ],
      "metadata": {
        "colab": {
          "base_uri": "https://localhost:8080/",
          "height": 222
        },
        "id": "9yjVWR66Nsjt",
        "outputId": "3c309d91-664f-4329-ba22-888310fd5169"
      },
      "execution_count": 7,
      "outputs": [
        {
          "output_type": "error",
          "ename": "ZeroDivisionError",
          "evalue": "ignored",
          "traceback": [
            "\u001b[0;31m---------------------------------------------------------------------------\u001b[0m",
            "\u001b[0;31mZeroDivisionError\u001b[0m                         Traceback (most recent call last)",
            "\u001b[0;32m<ipython-input-7-5854e6e76532>\u001b[0m in \u001b[0;36m<cell line: 2>\u001b[0;34m()\u001b[0m\n\u001b[1;32m      1\u001b[0m \u001b[0;34m[\u001b[0m\u001b[0mtotal_practice_runs\u001b[0m\u001b[0;34m,\u001b[0m\u001b[0mtotal_recorded_runs\u001b[0m\u001b[0;34m,\u001b[0m\u001b[0mtotal_recorded_successes\u001b[0m\u001b[0;34m,\u001b[0m\u001b[0mtotal_practice_successes\u001b[0m\u001b[0;34m]\u001b[0m \u001b[0;34m=\u001b[0m \u001b[0mapi\u001b[0m\u001b[0;34m.\u001b[0m\u001b[0mmy_status\u001b[0m\u001b[0;34m(\u001b[0m\u001b[0;34m)\u001b[0m \u001b[0;31m# Get my game stats: (# of tries, # of wins)\u001b[0m\u001b[0;34m\u001b[0m\u001b[0;34m\u001b[0m\u001b[0m\n\u001b[0;32m----> 2\u001b[0;31m \u001b[0msuccess_rate\u001b[0m \u001b[0;34m=\u001b[0m \u001b[0mtotal_recorded_successes\u001b[0m\u001b[0;34m/\u001b[0m\u001b[0mtotal_recorded_runs\u001b[0m\u001b[0;34m\u001b[0m\u001b[0;34m\u001b[0m\u001b[0m\n\u001b[0m\u001b[1;32m      3\u001b[0m \u001b[0mprint\u001b[0m\u001b[0;34m(\u001b[0m\u001b[0;34m'overall success rate = %.3f'\u001b[0m \u001b[0;34m%\u001b[0m \u001b[0msuccess_rate\u001b[0m\u001b[0;34m)\u001b[0m\u001b[0;34m\u001b[0m\u001b[0;34m\u001b[0m\u001b[0m\n",
            "\u001b[0;31mZeroDivisionError\u001b[0m: division by zero"
          ]
        }
      ]
    },
    {
      "cell_type": "code",
      "source": [
        "hh = \".pp.e\"\n"
      ],
      "metadata": {
        "id": "x_6kDDSfO412"
      },
      "execution_count": 8,
      "outputs": []
    },
    {
      "cell_type": "code",
      "source": [
        "def build_dictionary(dictionary_file_location):\n",
        "        text_file = open(dictionary_file_location,\"r\")\n",
        "        full_dictionary = text_file.read().splitlines()\n",
        "        text_file.close()\n",
        "        return full_dictionary"
      ],
      "metadata": {
        "id": "DsarJ6U8YC0W"
      },
      "execution_count": 12,
      "outputs": []
    },
    {
      "cell_type": "code",
      "source": [
        "full_dictionary = build_dictionary(\"words_250000_train.txt\")"
      ],
      "metadata": {
        "id": "-5YK3im8YFBW"
      },
      "execution_count": 23,
      "outputs": []
    },
    {
      "cell_type": "code",
      "source": [
        "type(full_dictionary)"
      ],
      "metadata": {
        "colab": {
          "base_uri": "https://localhost:8080/"
        },
        "id": "F8M8b2gpZAwr",
        "outputId": "99d1754c-a446-4b4a-d45d-b9b0f34b4306"
      },
      "execution_count": 24,
      "outputs": [
        {
          "output_type": "execute_result",
          "data": {
            "text/plain": [
              "list"
            ]
          },
          "metadata": {},
          "execution_count": 24
        }
      ]
    },
    {
      "cell_type": "code",
      "source": [
        "alphabets = \"abcdefghijklmnopqrstuvwxyz\"\n",
        "uniGram = {}\n",
        "biGram = {}\n",
        "triGram = {}\n",
        "for dict_word in full_dictionary:\n",
        "  for albt in dict_word:\n",
        "    uniGram[albt] = uniGram.get(albt, 0) + 1\n",
        "\n",
        "for dict_word in full_dictionary:\n",
        "  for i in range(len(dict_word) - 1):\n",
        "    pair = dict_word[i: i+2]\n",
        "    biGram[pair] = biGram.get(pair, 0) + 1\n",
        "\n",
        "for dict_word in full_dictionary:\n",
        "  for i in range(len(dict_word) - 2):\n",
        "    trigram = dict_word[i: i+3]\n",
        "    triGram[trigram] = triGram.get(trigram, 0) + 1"
      ],
      "metadata": {
        "id": "Jhdb-lpPYe4M"
      },
      "execution_count": 34,
      "outputs": []
    },
    {
      "cell_type": "code",
      "source": [
        "for i in range(len(hh) - 2):\n",
        "  tg = hh[i:i+3]\n",
        "  print(tg)\n",
        "  missingalphabets = tg.count(\".\")\n",
        "  srt_a = []\n",
        "  srt_c = []\n",
        "  if missingalphabets == 1:\n",
        "    matchcounts = [triGram.get(tg.replace(\".\", x),0) for x in alphabets]\n",
        "    srt_a.append(alphabets[matchcounts.index(max(matchcounts))])\n",
        "    srt_c.append(max(matchcounts))\n",
        "    guess = srt_a[srt_c.index(max(srt_c))]"
      ],
      "metadata": {
        "colab": {
          "base_uri": "https://localhost:8080/"
        },
        "id": "DeG3CiiHS58c",
        "outputId": "216dc2cf-b958-4e99-a4fc-2e1b2c4efaef"
      },
      "execution_count": 52,
      "outputs": [
        {
          "output_type": "stream",
          "name": "stdout",
          "text": [
            ".pp\n",
            "pp.\n",
            "p.e\n"
          ]
        }
      ]
    },
    {
      "cell_type": "code",
      "source": [
        "for i in range(len(hh) - 1):\n",
        "  tg = hh[i:i + 2]\n",
        "  print(tg)\n",
        "  missingalphabets = tg.count(\".\")\n",
        "  srt_a = []\n",
        "  srt_c = []\n",
        "  if missingalphabets == 1:\n",
        "    matchcounts = [triGram.get(tg.replace(\".\", x),0) for x in alphabets]\n",
        "    srt_a.append(alphabets[matchcounts.index(max(matchcounts))])\n",
        "    srt_c.append(max(matchcounts))\n",
        "    guess = srt_a[srt_c.index(max(srt_c))]"
      ],
      "metadata": {
        "colab": {
          "base_uri": "https://localhost:8080/"
        },
        "id": "mj867ecUYqtQ",
        "outputId": "12e02dec-24cc-4be5-a7f4-42912b6b42c7"
      },
      "execution_count": 54,
      "outputs": [
        {
          "output_type": "stream",
          "name": "stdout",
          "text": [
            ".p\n",
            "pp\n",
            "p.\n",
            ".e\n"
          ]
        }
      ]
    },
    {
      "cell_type": "code",
      "source": [
        "guess"
      ],
      "metadata": {
        "colab": {
          "base_uri": "https://localhost:8080/",
          "height": 35
        },
        "id": "1Y8P5ZkMTRdm",
        "outputId": "7d1c916a-4d99-4d56-d267-5ca9dfcfc994"
      },
      "execution_count": 55,
      "outputs": [
        {
          "output_type": "execute_result",
          "data": {
            "text/plain": [
              "'a'"
            ],
            "application/vnd.google.colaboratory.intrinsic+json": {
              "type": "string"
            }
          },
          "metadata": {},
          "execution_count": 55
        }
      ]
    },
    {
      "cell_type": "code",
      "source": [
        "hh.replace(\".\",\"z\")"
      ],
      "metadata": {
        "colab": {
          "base_uri": "https://localhost:8080/",
          "height": 35
        },
        "id": "BYa5rQENTTGu",
        "outputId": "8f1a1f5b-cae4-4c88-ee2f-afd7e38a91ea"
      },
      "execution_count": 10,
      "outputs": [
        {
          "output_type": "execute_result",
          "data": {
            "text/plain": [
              "'zppze'"
            ],
            "application/vnd.google.colaboratory.intrinsic+json": {
              "type": "string"
            }
          },
          "metadata": {},
          "execution_count": 10
        }
      ]
    },
    {
      "cell_type": "code",
      "source": [],
      "metadata": {
        "id": "5ZGJmJGaUBFb"
      },
      "execution_count": null,
      "outputs": []
    }
  ]
}