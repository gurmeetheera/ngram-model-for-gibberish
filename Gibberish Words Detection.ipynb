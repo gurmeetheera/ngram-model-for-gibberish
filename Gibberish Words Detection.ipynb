{
 "cells": [
  {
   "cell_type": "markdown",
   "metadata": {},
   "source": [
    "# _N-gram Model for Gibberish words detection_\n",
    "\n",
    "## N-grams:\n",
    "ordered sub-strings of length n\n",
    "\n",
    "### \"GIBBERISH\"\n",
    "\n",
    "__Length:__ m = 9 <br>\n",
    "__n_grams:__ (m - n + 1) = (10 - n) <br>\n",
    "__Length:__ GI, IB, BB, BE, ER, RI, IS, SH <br>\n",
    "__Length:__ GIB, IBB, BBE, BER, ERI, RIS, ISH <br>\n",
    "<br>\n",
    "3-gram model is developed o alphabets. <br>\n",
    "Probabiity of a 3-gram is calculated using conditional probabilities. <br>\n",
    "<br>\n",
    "___$P(GIB) = P(G) * P(I|G) * P(B|GI)$___ <br><br>\n",
    "The 3 probabilities on the right hand side is calculated using transition matrices trained using corpus of merchant names and the transition matrices serves as our model. <br><br> Allowing for 27 characters (26 alphabets and a space), our model will have 3 arrays (transition matrices) of dimensionsL 27, 27x27, 27$^{2}$x27 <br><br>\n",
    "The 3-gram probability is calculated for each possible (m-2) 3-grams and are averaged. The average transition probability serves as our score on which we can set a threshold."
   ]
  },
  {
   "cell_type": "code",
   "execution_count": null,
   "metadata": {},
   "outputs": [],
   "source": [
    "import pandas as pd\n",
    "import numpy as np\n",
    "import re\n",
    "import nltk\n",
    "from nltk.corpus import stopwords, wordnet\n",
    "from nltk.probability import FreqDist\n",
    "import glob\n",
    "import os\n",
    "import time\n",
    "import warnings\n",
    "\n",
    "import seaborn as sns\n",
    "import matplotlib.pyplot as plt\n",
    "from itertools import accumulate"
   ]
  },
  {
   "cell_type": "code",
   "execution_count": null,
   "metadata": {},
   "outputs": [],
   "source": [
    "df_train = read_data(\"\\\\verbatim\\\\train.csv\")"
   ]
  },
  {
   "cell_type": "code",
   "execution_count": null,
   "metadata": {},
   "outputs": [],
   "source": [
    "def standardize_text(df, text_field):\n",
    "    df[text_field] = df.filter(regex = text_field)\n",
    "    df[text_field] = df[text_field].str.replace(r\"[!#$%&\\'()*+,-./:;<=>?@[\\\\]^_`{|}~]\",\"\")\n",
    "    df[text_field] = df[text_field].str.replace(r\"[^A-Za-z]\", \" \")\n",
    "    df[text_field] = df[text_field].str.replace(\" \", \"\")\n",
    "    df[text_field] = df[text_field].str.lower()\n",
    "    df[text_field] = df[text_field].str.strip()\n",
    "    df[text_field] = df[text_field].str.replace(\" \", \"-\", regex = True)\n",
    "    df[text_field] = df[text_field].str.replace(\"--\", \"-\", regex = True)"
   ]
  },
  {
   "cell_type": "code",
   "execution_count": null,
   "metadata": {},
   "outputs": [],
   "source": [
    "df3 = standardize_text(df_train, 'Merch_Name')['Merch_Name'].dropna()"
   ]
  },
  {
   "cell_type": "code",
   "execution_count": null,
   "metadata": {},
   "outputs": [],
   "source": [
    "accepted_chars = 'abcdefghijklmnopqrstuvwxyz-'\n",
    "pos = dict([(char, idx) for idx, char in enumerate(accepted_chars)])"
   ]
  },
  {
   "cell_type": "code",
   "execution_count": null,
   "metadata": {},
   "outputs": [],
   "source": [
    "possible_bigrams = []\n",
    "for i, x in enumerate(accepted_chars):\n",
    "    for j, y in enumerate(accepted_chars):\n",
    "        possible_bigrams.append(x+y)"
   ]
  },
  {
   "cell_type": "code",
   "execution_count": null,
   "metadata": {},
   "outputs": [],
   "source": [
    "pos2 = dict([(char, idx) for idx, char in enumerate(possible_bigrams)])"
   ]
  },
  {
   "cell_type": "code",
   "execution_count": null,
   "metadata": {},
   "outputs": [],
   "source": [
    "def ngram(n,l):\n",
    "    for start in range(0, len(l) - n +1):\n",
    "        yield ''.join(l[start:start + n])\n",
    "        \n",
    "def train_unigram():\n",
    "    k = len(accepted_chars)  \n",
    "    counts = [[10 for i in range(k)]]\n",
    "    for line in df3:\n",
    "        for a in ngram(1, line):\n",
    "            counts[0][pos[a]] += 1\n",
    "    for i, row in enumerate(counts):\n",
    "        s = float(sum(row))\n",
    "        for j in range(len(row)):\n",
    "            row[j] = math.log(row[j]/s)\n",
    "    return counts\n",
    "\n",
    "def train_bigram():\n",
    "    k = len(accepted_chars)  \n",
    "    counts = [[10 for i in range(k)] for i range(k)]\n",
    "    for line in df3:\n",
    "        for a,b in ngram(2, line):\n",
    "            counts[pos[a]][pos[b]] += 1\n",
    "    for i, row in enumerate(counts):\n",
    "        s = float(sum(row))\n",
    "        for j in range(len(row)):\n",
    "            row[j] = math.log(row[j]/s)\n",
    "    return counts\n",
    "\n",
    "def train_trigram():\n",
    "    k = len(accepted_chars)  \n",
    "    k2 = len(possible_bigrams)\n",
    "    counts = [[10 for i in range(k)] for i range(k2)]\n",
    "    for line in df3:\n",
    "        for a,b,c in ngram(3, line):\n",
    "            counts[pos[a+b]][pos[c]] += 1\n",
    "    for i, row in enumerate(counts):\n",
    "        s = float(sum(row))\n",
    "        for j in range(len(row)):\n",
    "            row[j] = math.log(row[j]/s)\n",
    "    return counts"
   ]
  },
  {
   "cell_type": "code",
   "execution_count": null,
   "metadata": {},
   "outputs": [],
   "source": [
    "unigram_matrix = train_unigram()"
   ]
  },
  {
   "cell_type": "code",
   "execution_count": null,
   "metadata": {},
   "outputs": [],
   "source": [
    "print(unigram_matrix)"
   ]
  },
  {
   "cell_type": "code",
   "execution_count": null,
   "metadata": {},
   "outputs": [],
   "source": [
    "bigram_matrix = train_bigram()"
   ]
  },
  {
   "cell_type": "code",
   "execution_count": null,
   "metadata": {},
   "outputs": [],
   "source": [
    "plt.subplot(figsize = (10,8))\n",
    "sns.heatmap(bigram_matrix, xticklabels = pos.keys(), yticklabels = pos.keys(), cmap = 'coolwarm')\n",
    "plt.xlabel('Second Alphabet')\n",
    "pt.ylabel('First Alphabet')\n",
    "plt.title('Bi-gram transition log-likelihood')\n",
    "plt.show()"
   ]
  },
  {
   "cell_type": "code",
   "execution_count": null,
   "metadata": {},
   "outputs": [],
   "source": [
    "trigram_matrix = train_trigram()"
   ]
  },
  {
   "cell_type": "markdown",
   "metadata": {},
   "source": [
    "#### Average transition Probability"
   ]
  },
  {
   "cell_type": "code",
   "execution_count": null,
   "metadata": {},
   "outputs": [],
   "source": [
    "def avg_transition_prob(l, uni_mat = unigram_matrix, bi_mat = bigram_matrix, tri_mat = trigram_matrix):\n",
    "    log_prob = 0.0\n",
    "    transition_ct = 0\n",
    "    for a, b, c in ngram(3,l):\n",
    "        uniprob = uni_mat[0][pos[a]]\n",
    "        biprob = bi_mat[pos[a]][pos[b]]\n",
    "        triprob = tri_mat[pos2[a + b]][pos[c]]\n",
    "        log_prob += uniprob + biprob + triprob\n",
    "        transition_ct += 1\n",
    "    return -1*(log_prob/transition_ct or 1)"
   ]
  },
  {
   "cell_type": "code",
   "execution_count": null,
   "metadata": {},
   "outputs": [],
   "source": [
    "train_predictions = [avg_transition_prob(x) for x in df3]"
   ]
  },
  {
   "cell_type": "code",
   "execution_count": null,
   "metadata": {},
   "outputs": [],
   "source": [
    "%matplotlib inline\n",
    "plt.hist(train_predictions, density = True, bins = np.arange(0, 20, 0.1), label = 'train', alpha = 0.5)\n",
    "plt.hist(test_predictions, density = True, bins = np.arange(0, 20, 0.1), label = 'gibberish', alpha = 0.5)\n",
    "plt.xlabel('strangeness')\n",
    "plt.ylabel('Density')\n",
    "plt.legend(loc = 'best')\n",
    "plt.show()"
   ]
  },
  {
   "cell_type": "code",
   "execution_count": null,
   "metadata": {},
   "outputs": [],
   "source": [
    "unigram_pd = pd.DataFrame({'char': [x for x in accepted_chars], 'value': list(np.squeeze(unigram_matrix))})"
   ]
  },
  {
   "cell_type": "code",
   "execution_count": null,
   "metadata": {},
   "outputs": [],
   "source": [
    "bigram_pd = pd.DataFrame({'char': [x+y for x in accepted_chars for y in accepted_chars],\n",
    "                          'value': np.array(bigram_matrix).reshape((27**2,))})"
   ]
  },
  {
   "cell_type": "code",
   "execution_count": null,
   "metadata": {},
   "outputs": [],
   "source": [
    "trigram_pd = pd.DataFrame({'char': [x+y for x in accepted_chars for y in possible_bigrams],\n",
    "                          'value': np.array(trigram_matrix).reshape((27**3,))})"
   ]
  }
 ],
 "metadata": {
  "kernelspec": {
   "display_name": "Python 3",
   "language": "python",
   "name": "python3"
  },
  "language_info": {
   "codemirror_mode": {
    "name": "ipython",
    "version": 3
   },
   "file_extension": ".py",
   "mimetype": "text/x-python",
   "name": "python",
   "nbconvert_exporter": "python",
   "pygments_lexer": "ipython3",
   "version": "3.7.3"
  }
 },
 "nbformat": 4,
 "nbformat_minor": 2
}
